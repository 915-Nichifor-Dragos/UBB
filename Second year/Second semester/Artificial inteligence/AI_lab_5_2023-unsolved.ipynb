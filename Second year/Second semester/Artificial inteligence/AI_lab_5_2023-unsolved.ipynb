{
 "cells": [
  {
   "cell_type": "markdown",
   "id": "b8210b19",
   "metadata": {},
   "source": [
    "## A.I. Assignment 5\n",
    "\n",
    "## Learning Goals\n",
    "\n",
    "By the end of this lab, you should be able to:\n",
    "* Get more familiar with tensors in pytorch \n",
    "* Create a simple multilayer perceptron model with pytorch\n",
    "* Visualise the parameters\n",
    "\n",
    "\n",
    "### Task\n",
    "\n",
    "Build a fully connected feed forward network that adds two bits. Determine the a propper achitecture for this network (what database you use for this problem? how many layers? how many neurons on each layer? what is the activation function? what is the loss function? etc)\n",
    "\n",
    "Create at least 3 such networks and compare their performance (how accurate they are?, how farst they are trained to get at 1 accuracy?)\n",
    "\n",
    "Display for the best one the weights for each layer.\n"
   ]
  },
  {
   "cell_type": "code",
   "execution_count": 441,
   "id": "e3614e5f",
   "metadata": {},
   "outputs": [],
   "source": [
    "import torch\n",
    "import torch.nn as nn\n",
    "from collections import OrderedDict\n"
   ]
  },
  {
   "cell_type": "code",
   "execution_count": 442,
   "id": "5ee7e7d7",
   "metadata": {},
   "outputs": [],
   "source": [
    "# your code here\n",
    "#model1 = nn.Sequential(OrderedDict([\n",
    "#    ('hidden', nn.\n",
    "#]))\n",
    "\n",
    "model1 = nn.Sequential(OrderedDict([\n",
    "    ('hidden', nn.Linear(2, 2)),\n",
    "    ('h_a', nn.Sigmoid()),\n",
    "    ('output', nn.Linear(2, 2)),\n",
    "    ('h_a', nn.Sigmoid())\n",
    "]))\n",
    "\n",
    "model2 = nn.Sequential(OrderedDict([\n",
    "    ('fc1', nn.Linear(2, 5)),\n",
    "    ('relu1', nn.ReLU()),\n",
    "    ('fc2', nn.Linear(5, 3)),\n",
    "    ('relu2', nn.ReLU()),\n",
    "    ('fc3', nn.Linear(3, 2)),\n",
    "    ('relu3', nn.ReLU())\n",
    "]))\n",
    "\n",
    "model3 = nn.Sequential(OrderedDict([\n",
    "    ('fc1', nn.Linear(2, 5)),\n",
    "    ('relu1', nn.ReLU()),\n",
    "    ('fc2', nn.Linear(5, 3)),\n",
    "    ('relu2', nn.ReLU()),\n",
    "    ('fc3', nn.Linear(3, 2)),\n",
    "    ('sigmoid', nn.Sigmoid())\n",
    "]))\n",
    "\n",
    "# the database contains 0 and 1 because we must add two bits\n",
    "\n",
    "# 3 layers: the input and output layers and one hidden layer\n",
    "# the activation function is the sigmoid function\n",
    "# the loss function is\n",
    "\n",
    "# ==============================================================================================================================================\n",
    "\n",
    "# for MODEL 1:\n",
    "# input layer has 2 neurons, hidden layer has 2 neurons and output layer has 1 neuron\n",
    "\n",
    "# for MODEL 2:\n",
    "# input layer has 2 neurons, hidden layer has 4 neurons and output layer has 1 neuron\n",
    "\n",
    "# for MODEL 3:\n",
    "# input layer has 2 neurons, hidden layer has 8 neurons and output layer has 1 neuron\n",
    "\n",
    "# ==============================================================================================================================================\n",
    "\n",
    "# MODEL 1 is a neural network with:\n",
    "# - one hidden layer of two nodes (input size 2, output size 2)\n",
    "# - an output layer of one node (input size 2, output size 1).\n",
    "\n",
    "# MODEL 2 is a neural network with: three fully connected layers (also known as linear layers) with ReLU activation functions.\n",
    "# - the first layer has input size 2 and output size 5.\n",
    "# - the second layer has input size 5 and output size 3\n",
    "# - the third layer has input size 3 and output size 1.\n",
    "\n",
    "\n",
    "# MODEL3 is similar to MODEL2 but with a sigmoid activation function applied to the output of the final layer instead of a ReLU function.\n",
    "\n",
    "# Overall, model2 and model3 have the same architecture with the only difference being the activation function used in the final layer."
   ]
  },
  {
   "cell_type": "code",
   "execution_count": 443,
   "id": "665ae958",
   "metadata": {},
   "outputs": [
    {
     "name": "stdout",
     "output_type": "stream",
     "text": [
      "Sequential(\n",
      "  (hidden): Linear(in_features=2, out_features=2, bias=True)\n",
      "  (h_a): Sigmoid()\n",
      "  (output): Linear(in_features=2, out_features=2, bias=True)\n",
      ")\n",
      "Sequential(\n",
      "  (fc1): Linear(in_features=2, out_features=5, bias=True)\n",
      "  (relu1): ReLU()\n",
      "  (fc2): Linear(in_features=5, out_features=3, bias=True)\n",
      "  (relu2): ReLU()\n",
      "  (fc3): Linear(in_features=3, out_features=2, bias=True)\n",
      "  (relu3): ReLU()\n",
      ")\n",
      "Sequential(\n",
      "  (fc1): Linear(in_features=2, out_features=5, bias=True)\n",
      "  (relu1): ReLU()\n",
      "  (fc2): Linear(in_features=5, out_features=3, bias=True)\n",
      "  (relu2): ReLU()\n",
      "  (fc3): Linear(in_features=3, out_features=2, bias=True)\n",
      "  (sigmoid): Sigmoid()\n",
      ")\n"
     ]
    }
   ],
   "source": [
    "print(model1)\n",
    "print(model2)\n",
    "print(model3)"
   ]
  },
  {
   "cell_type": "code",
   "execution_count": 444,
   "id": "e26f0d3e",
   "metadata": {},
   "outputs": [
    {
     "name": "stdout",
     "output_type": "stream",
     "text": [
      "tensor([[0., 0.],\n",
      "        [0., 1.],\n",
      "        [1., 0.],\n",
      "        [1., 1.]])\n"
     ]
    }
   ],
   "source": [
    "# your code here\n",
    "#data_in = torch.tensor( ...\n",
    "#contains all the possible combinations of bits(0, 1)\n",
    "data_in = torch.tensor([[0, 0], [0, 1], [1, 0], [1, 1]], dtype=torch.float32)\n",
    "\n",
    "print(data_in)"
   ]
  },
  {
   "cell_type": "code",
   "execution_count": 445,
   "id": "4fb16bbc",
   "metadata": {},
   "outputs": [
    {
     "name": "stdout",
     "output_type": "stream",
     "text": [
      "tensor([[0., 0.],\n",
      "        [0., 1.],\n",
      "        [0., 1.],\n",
      "        [1., 0.]])\n"
     ]
    }
   ],
   "source": [
    "# your code here\n",
    "# data_target = torch.tensor( ...\n",
    "# contains all the possible results of adding 2 bits\n",
    "data_target = torch.tensor([[0, 0], [0, 1], [0, 1], [1, 0]], dtype=torch.float32)\n",
    "\n",
    "print(data_target)"
   ]
  },
  {
   "cell_type": "code",
   "execution_count": 446,
   "id": "69d920ed",
   "metadata": {},
   "outputs": [],
   "source": [
    "# your code here\n",
    "# criterion = \n",
    "# optimizer =\n",
    "\n",
    "criterion = nn.MSELoss()\n",
    "optimizer1 = torch.optim.SGD(model1.parameters(), lr=0.1) # calculates gradients with learning rate 0.1\n",
    "optimizer2 = torch.optim.SGD(model2.parameters(), lr=0.1)\n",
    "optimizer3 = torch.optim.SGD(model3.parameters(), lr=0.1)"
   ]
  },
  {
   "cell_type": "code",
   "execution_count": 447,
   "id": "cde91f6f",
   "metadata": {},
   "outputs": [
    {
     "name": "stdout",
     "output_type": "stream",
     "text": [
      "MODEL 1\n",
      "Epoch [100/1000], Loss: 0.2192\n",
      "Epoch [200/1000], Loss: 0.2167\n",
      "Epoch [300/1000], Loss: 0.2137\n",
      "Epoch [400/1000], Loss: 0.2092\n",
      "Epoch [500/1000], Loss: 0.2024\n",
      "Epoch [600/1000], Loss: 0.1931\n",
      "Epoch [700/1000], Loss: 0.1830\n",
      "Epoch [800/1000], Loss: 0.1742\n",
      "Epoch [900/1000], Loss: 0.1677\n",
      "Epoch [1000/1000], Loss: 0.1632\n",
      "MODEL 2\n",
      "Epoch [100/1000], Loss: 0.3041\n",
      "Epoch [200/1000], Loss: 0.2615\n",
      "Epoch [300/1000], Loss: 0.2502\n",
      "Epoch [400/1000], Loss: 0.2500\n",
      "Epoch [500/1000], Loss: 0.2500\n",
      "Epoch [600/1000], Loss: 0.2500\n",
      "Epoch [700/1000], Loss: 0.2500\n",
      "Epoch [800/1000], Loss: 0.2500\n",
      "Epoch [900/1000], Loss: 0.2500\n",
      "Epoch [1000/1000], Loss: 0.2500\n",
      "MODEL 3\n",
      "Epoch [100/1000], Loss: 0.2209\n",
      "Epoch [200/1000], Loss: 0.2155\n",
      "Epoch [300/1000], Loss: 0.2124\n",
      "Epoch [400/1000], Loss: 0.2077\n",
      "Epoch [500/1000], Loss: 0.1999\n",
      "Epoch [600/1000], Loss: 0.1851\n",
      "Epoch [700/1000], Loss: 0.1571\n",
      "Epoch [800/1000], Loss: 0.1136\n",
      "Epoch [900/1000], Loss: 0.0751\n",
      "Epoch [1000/1000], Loss: 0.0517\n"
     ]
    }
   ],
   "source": [
    "# your code here\n",
    "# Train the model\n",
    "\n",
    "num_epochs = 1000\n",
    "\n",
    "# Train MODEL1 for 1000 epochs:\n",
    "print('MODEL 1')\n",
    "for epoch in range(num_epochs):\n",
    "    output = model1(data_in) # Forward pass\n",
    "    loss = criterion(output, data_target) # Calculate the loss\n",
    "    optimizer1.zero_grad() # Backward pass and optimization\n",
    "    loss.backward()\n",
    "    optimizer1.step()\n",
    "    if (epoch + 1) % 100 == 0:\n",
    "        print(f\"Epoch [{epoch+1}/{num_epochs}], Loss: {loss.item():.4f}\") # Print the loss every 100 epochs\n",
    "\n",
    "\n",
    "# Train MODEL2 for 1000 epochs:\n",
    "print('MODEL 2')\n",
    "for epoch in range(num_epochs):\n",
    "    output = model2(data_in) # Forward pass\n",
    "    loss = criterion(output, data_target) # Calculate the loss\n",
    "    optimizer2.zero_grad() # Backward pass and optimization\n",
    "    loss.backward()\n",
    "    optimizer2.step()\n",
    "    if (epoch + 1) % 100 == 0:\n",
    "        print(f\"Epoch [{epoch+1}/{num_epochs}], Loss: {loss.item():.4f}\") # Print the loss every 100 epochs\n",
    "\n",
    "\n",
    "# Train the model 3 for 1000 epochs\n",
    "print('MODEL 3')\n",
    "for epoch in range(num_epochs):\n",
    "    output = model3(data_in) # Forward pass\n",
    "    loss = criterion(output, data_target) # Calculate the loss\n",
    "    optimizer3.zero_grad() # Backward pass and optimization\n",
    "    loss.backward()\n",
    "    optimizer3.step()\n",
    "    if (epoch + 1) % 100 == 0:\n",
    "        print(f\"Epoch [{epoch+1}/{num_epochs}], Loss: {loss.item():.4f}\") # Print the loss every 100 epochs"
   ]
  },
  {
   "cell_type": "code",
   "execution_count": 448,
   "outputs": [
    {
     "name": "stdout",
     "output_type": "stream",
     "text": [
      "Model 1's predictions:\n",
      "tensor([[0., 0.],\n",
      "        [0., 0.],\n",
      "        [0., 1.],\n",
      "        [1., 1.]])\n",
      "Model 2's predictions:\n",
      "tensor([[0., 0.],\n",
      "        [0., 0.],\n",
      "        [0., 0.],\n",
      "        [1., 0.]])\n",
      "Model 3's predictions:\n",
      "tensor([[0., 0.],\n",
      "        [0., 1.],\n",
      "        [0., 1.],\n",
      "        [1., 0.]])\n"
     ]
    }
   ],
   "source": [
    "# your code here\n",
    "# visualize the results\n",
    "\n",
    "import matplotlib.pyplot as plt\n",
    "\n",
    "# For MODEL 1:\n",
    "output = model1(data_in)\n",
    "predictions = (output >= 0.5).float() # Convert the output probabilities to binary predictions\n",
    "print(\"Model 1's predictions:\") # Print the model's predictions\n",
    "print(predictions)\n",
    "\n",
    "# For MODEL 2:\n",
    "output = model2(data_in)\n",
    "predictions = (output >= 0.5).float() # Convert the output probabilities to binary predictions\n",
    "print(\"Model 2's predictions:\") # Print the model's predictions\n",
    "print(predictions)\n",
    "\n",
    "# For MODEL 3:\n",
    "output = model3(data_in)\n",
    "predictions = (output >= 0.5).float() # Convert the output probabilities to binary predictions\n",
    "print(\"Model 3's predictions:\") # Print the model's predictions\n",
    "print(predictions)"
   ],
   "metadata": {
    "collapsed": false
   }
  },
  {
   "cell_type": "code",
   "execution_count": 449,
   "id": "c1a7518b",
   "metadata": {},
   "outputs": [
    {
     "name": "stdout",
     "output_type": "stream",
     "text": [
      "Accuracy: 75.00%\n",
      "Accuracy: 75.00%\n",
      "Accuracy: 100.00%\n",
      "Model 3 is the best!\n"
     ]
    }
   ],
   "source": [
    "# your code here\n",
    "# print model weights\n",
    "\n",
    "accuracies = []\n",
    "models = [model1, model2, model3]\n",
    "for model in models:\n",
    "    model.eval()\n",
    "    with torch.no_grad():\n",
    "        outputs = model(data_in)\n",
    "        predicted = (outputs >= 0.5).float()\n",
    "        accuracy = (predicted == data_target).float().mean()\n",
    "        accuracies.append(accuracy)\n",
    "\n",
    "    print(\"Accuracy: {:.2f}%\".format(accuracy.item() * 100))\n",
    "\n",
    "# Select the best-performing model\n",
    "best_model = models[accuracies.index(max(accuracies))]\n",
    "\n",
    "print('Model ' + str(accuracies.index(max(accuracies)) + 1) + ' is the best!')"
   ]
  },
  {
   "cell_type": "code",
   "execution_count": 449,
   "id": "4cdf09ba",
   "metadata": {},
   "outputs": [],
   "source": []
  },
  {
   "cell_type": "code",
   "execution_count": 449,
   "id": "d0bea66c",
   "metadata": {},
   "outputs": [],
   "source": []
  },
  {
   "cell_type": "code",
   "execution_count": 449,
   "id": "e29c65a2",
   "metadata": {},
   "outputs": [],
   "source": []
  }
 ],
 "metadata": {
  "kernelspec": {
   "display_name": "Python 3 (ipykernel)",
   "language": "python",
   "name": "python3"
  },
  "language_info": {
   "codemirror_mode": {
    "name": "ipython",
    "version": 3
   },
   "file_extension": ".py",
   "mimetype": "text/x-python",
   "name": "python",
   "nbconvert_exporter": "python",
   "pygments_lexer": "ipython3",
   "version": "3.9.13"
  }
 },
 "nbformat": 4,
 "nbformat_minor": 5
}
